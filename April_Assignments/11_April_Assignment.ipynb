{
 "cells": [
  {
   "cell_type": "markdown",
   "id": "e238e762",
   "metadata": {},
   "source": [
    "# 11_April_Assignment"
   ]
  },
  {
   "cell_type": "markdown",
   "id": "d7120221",
   "metadata": {},
   "source": [
    "### Q1. What is an ensemble technique in machine learning?"
   ]
  },
  {
   "cell_type": "markdown",
   "id": "410594a7",
   "metadata": {},
   "source": [
    "Ensemble techniques in machine learning involve combining multiple models or algorithms to improve the overall performance of a machine learning model. The basic idea behind ensemble techniques is to leverage the diversity of different models and to use their strengths to compensate for the weaknesses of other models. They're used for both classification and regression tasks. There are two main types of ensemble techniques:\n",
    "\n",
    "* Bagging: This involves building multiple models using random subsets of the training data and combining their predictions. The most popular example of bagging is the random forest algorithm.\n",
    "\n",
    "* Boosting: This involves building multiple models sequentially, where each subsequent model is trained to correct the errors made by the previous model. The most popular example of boosting is the AdaBoost algorithm.\n",
    "\n",
    "Ensemble techniques can also be combined with other machine learning techniques, such as neural networks or deep learning, to further improve performance. The key advantage of ensemble techniques is that they can reduce the risk of overfitting and improve the generalization ability of the model."
   ]
  },
  {
   "cell_type": "markdown",
   "id": "13680d1b",
   "metadata": {},
   "source": [
    "### Q2. Why are ensemble techniques used in machine learning?"
   ]
  },
  {
   "cell_type": "markdown",
   "id": "a49e2dba",
   "metadata": {},
   "source": [
    "Ensemble techniques are used in machine learning for several reasons:\n",
    "\n",
    "1) Improved accuracy: By combining multiple models, ensemble techniques can achieve higher accuracy than individual models. This is because each model may have its own strengths and weaknesses, and by combining them, the ensemble model can exploit the strengths of each individual model and mitigate the weaknesses.\n",
    "\n",
    "\n",
    "2) Reduced overfitting: Ensemble techniques can also reduce overfitting, which occurs when a model is too complex and learns to fit the training data too closely, resulting in poor performance on unseen data. By using multiple models, ensemble techniques can reduce the risk of overfitting and improve the generalization ability of the model.\n",
    "\n",
    "\n",
    "3) Robustness: Ensemble techniques can also improve the robustness of the model by reducing the impact of outliers or noisy data. Since different models may be sensitive to different types of noise, the ensemble model can be more robust by averaging out the predictions of multiple models.\n",
    "\n",
    "\n",
    "4) Flexibility: Ensemble techniques are flexible and it can be used with some data models, with respect to machine learing, that solves complex problems, such as, decision trees, neural networks, and support vector machines."
   ]
  },
  {
   "cell_type": "markdown",
   "id": "0a1388e7",
   "metadata": {},
   "source": [
    "### Q3. What is bagging?"
   ]
  },
  {
   "cell_type": "markdown",
   "id": "f10fcc34",
   "metadata": {},
   "source": [
    "A terminology that is widely used for ensemble techniques in machine learning, which involves building multiple models using random subsets of the training data and combining their predictions, is called bagging. The most popular example of bagging is the random forest algorithm"
   ]
  },
  {
   "cell_type": "markdown",
   "id": "c60f438d",
   "metadata": {},
   "source": [
    "### Q4. What is boosting?"
   ]
  },
  {
   "cell_type": "markdown",
   "id": "96b76d43",
   "metadata": {},
   "source": [
    "A terminology that is widely used for ensemble techniques in machine learning, which involves building multiple models sequentially, where each subsequent model is trained to correct the errors made by the previous model, is called boosting. The most popular example of boosting is the AdaBoost algorithm."
   ]
  },
  {
   "cell_type": "markdown",
   "id": "32994509",
   "metadata": {},
   "source": [
    "### Q5. What are the benefits of using ensemble techniques?"
   ]
  },
  {
   "cell_type": "markdown",
   "id": "d6ce080d",
   "metadata": {},
   "source": [
    "There are several benefits of using ensemble techniques in machine learning:\n",
    "\n",
    "1) Improved Accuracy: Ensemble techniques can improve the accuracy of a model by combining the predictions of multiple models. Since each model may have different strengths and weaknesses, the ensemble can leverage the strengths of each individual model and mitigate their weaknesses, resulting in higher accuracy.\n",
    "\n",
    "\n",
    "2) Reduced Overfitting: Ensemble techniques can reduce the risk of overfitting by using multiple models. Overfitting occurs when a model is too complex and learns to fit the training data too closely, which results in poor performance. By using multiple models, ensemble techniques can reduce the risk of overfitting and improve the generalization ability of the model.\n",
    "\n",
    "\n",
    "3) Robustness: Ensemble techniques can improve the robustness of a model by reducing the impact of outliers or noisy data. Since different models may be sensitive to different types of noise, the ensemble can be more robust by averaging out the predictions of multiple models.\n",
    "\n",
    "\n",
    "4) Flexibility: Ensemble techniques are flexible and it can be used with some data models, with respect to machine learing, that solves complex problems, such as, decision trees, neural networks, and support vector machines.\n",
    "\n",
    "\n",
    "5) Faster Training Time: In some cases, ensemble techniques can be faster to train than individual models. Also, it can parallelize the training of multiple models, allowing them to be trained simultaneously."
   ]
  },
  {
   "cell_type": "markdown",
   "id": "75fa8148",
   "metadata": {},
   "source": [
    "### Q6. Are ensemble techniques always better than individual models?"
   ]
  },
  {
   "cell_type": "markdown",
   "id": "c9b5fc41",
   "metadata": {},
   "source": [
    "Ensemble techniques are not always better than individual models. The effectiveness of ensemble techniques depends on several factors, such as the quality and diversity of the individual models, the size and quality of the training data, and the complexity of the problem.\n",
    "\n",
    "In some cases, individual models may perform better than ensemble techniques. For example, if the individual models are already very accurate and diverse, then combining them may not provide much additional benefit. Additionally, if the training data is small, ensemble techniques may not provide much benefit, as there may not be enough data to train multiple models.\n",
    "\n",
    "Moreover, ensemble techniques can also be more complex than individual models, which requires more resources and time for training and inference.\n",
    "\n",
    "\n",
    "\n"
   ]
  },
  {
   "cell_type": "markdown",
   "id": "84a51f80",
   "metadata": {},
   "source": [
    "### Q7. How is the confidence interval calculated using bootstrap?"
   ]
  },
  {
   "cell_type": "markdown",
   "id": "6cb04cda",
   "metadata": {},
   "source": [
    "The confidence interval can be calculated using bootstrap as follows:\n",
    "\n",
    "1) Randomly select a sample of size n from the original data, with replacement. This is called a bootstrap sample.\n",
    "\n",
    "\n",
    "2) Calculate the statistic of interest (e.g., mean, median, standard deviation) for the bootstrap sample.\n",
    "\n",
    "\n",
    "3) Repeat steps 1 and 2 B times, where B is a large number (e.g., 1000).\n",
    "\n",
    "\n",
    "4) Calculate the standard error of the statistic by computing the standard deviation of the B bootstrap statistics.\n",
    "\n",
    "\n",
    "5) Calculate the lower and upper bounds of the confidence interval using the percentile method. For example, if we want to calculate a 95% confidence interval, we would take the 2.5th and 97.5th percentiles of the B bootstrap statistics. The resulting range represents the lower and upper bounds of the confidence interval"
   ]
  },
  {
   "cell_type": "markdown",
   "id": "e7317ac0",
   "metadata": {},
   "source": [
    "### Q8. How does bootstrap work and What are the steps involved in bootstrap?"
   ]
  },
  {
   "cell_type": "markdown",
   "id": "8f50d125",
   "metadata": {},
   "source": [
    "Bootstrap is a statistical technique used to estimate the variability and uncertainty of a population parameter by resampling the available data. It is particularly useful when the sample size is small or when the underlying distribution is not well known. The steps involved in bootstrap are as follows:\n",
    "\n",
    "1) Collect a sample of size n from the population of interest.\n",
    "\n",
    "\n",
    "2) Create a bootstrap sample by randomly selecting n observations from the original sample with replacement. This means that each observation in the original sample has an equal chance of being selected for the bootstrap sample, and some observations may be selected more than once.\n",
    "\n",
    "\n",
    "3) Calculate the statistic of interest (e.g., mean, standard deviation, correlation coefficient) for the bootstrap sample.\n",
    "\n",
    "\n",
    "4) Repeat steps 2 and 3 B times, where B is a large number (e.g., 1000). This will result in B bootstrap samples and B corresponding statistics of interest.\n",
    "\n",
    "\n",
    "5) Calculate the standard error of the statistic by taking the standard deviation of the B bootstrap statistics.\n",
    "\n",
    "\n",
    "6) Construct a confidence interval for the population parameter by using the percentile method. This involves selecting the α/2 and 1-α/2 percentiles of the B bootstrap statistics, where α is the desired level of significance (e.g., 0.05 for a 95% confidence interval).\n",
    "\n",
    "\n",
    "7) Interpret the confidence interval in the context of the problem."
   ]
  },
  {
   "cell_type": "markdown",
   "id": "404b7fd7",
   "metadata": {},
   "source": [
    "### Q9. A researcher wants to estimate the mean height of a population of trees. They measure the height of a sample of 50 trees and obtain a mean height of 15 meters and a standard deviation of 2 meters. Use bootstrap to estimate the 95% confidence interval for the population mean height"
   ]
  },
  {
   "cell_type": "code",
   "execution_count": 2,
   "id": "359d6964",
   "metadata": {},
   "outputs": [
    {
     "name": "stdout",
     "output_type": "stream",
     "text": [
      "Bootstrap 95% CI for the mean height of trees: [14.11, 15.24]\n"
     ]
    }
   ],
   "source": [
    "import numpy as np\n",
    "\n",
    "# Define the original sample data\n",
    "sample_heights = np.array([15]*50) + np.random.normal(0, 2, 50) # Simulating data\n",
    "\n",
    "# Set the number of bootstrap samples\n",
    "n_boots = 10000\n",
    "\n",
    "# Generate bootstrap samples and calculate the sample means\n",
    "boot_means = np.zeros(n_boots)\n",
    "for i in range(n_boots):\n",
    "    boot_sample = np.random.choice(sample_heights, size=50, replace=True)\n",
    "    boot_means[i] = np.mean(boot_sample)\n",
    "\n",
    "# Calculate the standard error of the mean\n",
    "se_mean = np.std(boot_means, ddof=1) / np.sqrt(n_boots)\n",
    "\n",
    "# Calculate the confidence interval using the percentile method\n",
    "ci_low = np.percentile(boot_means, 2.5)\n",
    "ci_high = np.percentile(boot_means, 97.5)\n",
    "\n",
    "# Print the results\n",
    "print(\"Bootstrap 95% CI for the mean height of trees: [{:.2f}, {:.2f}]\".format(ci_low, ci_high))"
   ]
  },
  {
   "cell_type": "code",
   "execution_count": null,
   "id": "0b816a48",
   "metadata": {},
   "outputs": [],
   "source": []
  }
 ],
 "metadata": {
  "kernelspec": {
   "display_name": "Python 3 (ipykernel)",
   "language": "python",
   "name": "python3"
  },
  "language_info": {
   "codemirror_mode": {
    "name": "ipython",
    "version": 3
   },
   "file_extension": ".py",
   "mimetype": "text/x-python",
   "name": "python",
   "nbconvert_exporter": "python",
   "pygments_lexer": "ipython3",
   "version": "3.10.7"
  }
 },
 "nbformat": 4,
 "nbformat_minor": 5
}
