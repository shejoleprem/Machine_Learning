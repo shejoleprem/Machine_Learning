{
 "cells": [
  {
   "cell_type": "markdown",
   "id": "5d79c1bc",
   "metadata": {},
   "source": [
    "## 9_April_Assignment"
   ]
  },
  {
   "cell_type": "markdown",
   "id": "f21fc53f",
   "metadata": {},
   "source": [
    "### Q1. What is Bayes' theorem?"
   ]
  },
  {
   "cell_type": "markdown",
   "id": "72197e4d",
   "metadata": {},
   "source": [
    "Bayes' theorem, named after Reverend Thomas Bayes, is a mathematical formula that describes the relationship between conditional probabilities.\n",
    "\n",
    "In its simplest form, Bayes' theorem states that the probability of a hypothesis H given some observed evidence E is proportional to the probability of the evidence E given the hypothesis H, multiplied by the prior probability of the hypothesis H: P(H|E) = P(E|H) * P(H) / P(E)\n",
    "\n",
    "Where:\n",
    "P(H|E) is the posterior probability of H given E (what we want to know)\n",
    "P(E|H) is the likelihood of observing the evidence E given the hypothesis H (how well the evidence supports the hypothesis)\n",
    "P(H) is the prior probability of the hypothesis H (our initial belief in the hypothesis before seeing the evidence)\n",
    "P(E) is the marginal probability of the evidence E (the total probability of observing the evidence, regardless of the hypothesis)\n",
    "\n",
    "Bayes' theorem is a fundamental concept in probability & has many applications in fields such as statistics, machine learning, and artificial intelligence. It provides a way to update our beliefs about the world in light of new evidence and is essential for making informed decisions in uncertain situations."
   ]
  },
  {
   "cell_type": "markdown",
   "id": "a83cff37",
   "metadata": {},
   "source": [
    "### Q2. What is the formula for Bayes' theorem?"
   ]
  },
  {
   "cell_type": "markdown",
   "id": "f044da4e",
   "metadata": {},
   "source": [
    "The formula for Bayes' theorem is:\n",
    "P(H|E) = P(E|H) * P(H) / P(E)\n",
    "\n",
    "Where:\n",
    "P(H|E) is the posterior probability of H given E (what we want to know)\n",
    "P(E|H) is the likelihood of observing the evidence E given the hypothesis H (how well the evidence supports the hypothesis)\n",
    "P(H) is the prior probability of the hypothesis H (our initial belief in the hypothesis before seeing the evidence)\n",
    "P(E) is the marginal probability of the evidence E (the total probability of observing the evidence, regardless of the hypothesis)\n",
    "\n",
    "This formula is used to update our beliefs about the probability of a hypothesis H being true based on new evidence E. It is a powerful tool in Bayesian statistics and machine learning, allowing us to make more accurate predictions and decisions based on data."
   ]
  },
  {
   "cell_type": "markdown",
   "id": "7d7654ca",
   "metadata": {},
   "source": [
    "### Q3. How is Bayes' theorem used in practice?"
   ]
  },
  {
   "cell_type": "markdown",
   "id": "3c1ad2e8",
   "metadata": {},
   "source": [
    "Bayes' theorem is used in practice in a wide range of fields, including statistics, machine learning, artificial intelligence, and decision-making. Also, Bayes' theorem is used in some other applications, which are given below:\n",
    "\n",
    "* Medical diagnosis: In medicine, Bayes' theorem can be used to calculate the probability of a patient having a disease given their symptoms and other medical information. Doctors can use this information to make more informed decisions about diagnosis and treatment.\n",
    "\n",
    "\n",
    "* Spam filtering: Bayes' theorem is used in spam filtering algorithms to calculate the probability that an email is spam given its contents. This helps email providers identify and filter out unwanted messages.\n",
    "\n",
    "\n",
    "* Predictive modeling: In machine learning, Bayes' theorem is used to build predictive models that can make accurate predictions based on past data. This can be useful in a wide range of applications, from stock market forecasting to weather prediction.\n",
    "\n",
    "\n",
    "* A/B testing: Bayes' theorem is used in A/B testing to determine the probability that one version of a product or service is better than another based on user behavior. This helps businesses optimize their offerings and improve customer satisfaction.\n",
    "\n",
    "\n",
    "* Decision-making: Bayes' theorem can be used to make decisions in uncertain situations by calculating the expected value of different options. This approach is often used in game theory, finance, and other fields where decision-making under uncertainty is important.\n"
   ]
  },
  {
   "cell_type": "markdown",
   "id": "0897ad0d",
   "metadata": {},
   "source": [
    "###  Q4. What is the relationship between Bayes' theorem and conditional probability?"
   ]
  },
  {
   "cell_type": "markdown",
   "id": "0da0c35c",
   "metadata": {},
   "source": [
    "* Bayes' theorem is a mathematical formula that describes the relationship between conditional probabilities. In fact, Bayes' theorem can be derived from the definition of conditional probability.\n",
    "\n",
    "* Conditional probability is the probability of an event states that another event has already occurred. For example, the probability of rolling a six on a die given that the die has already been rolled is a conditional probability. Denoted as P(A|B), where A and B are events, it's stated as \"Probability of A given B.\"\n",
    "\n",
    "* Bayes' theorem provides a way to calculate the conditional probability of one event given another event and some prior information. It allows us to update our prior beliefs about the probability of an event occurring based on new evidence.\n",
    "\n",
    "* The formula for Bayes' theorem involves multiplying the likelihood of the observed evidence given the hypothesis by the prior probability of the hypothesis and dividing by the marginal probability of the evidence. In this way, Bayes' theorem combines prior beliefs with new evidence to calculate a revised probability of a hypothesis being true.\n",
    "\n"
   ]
  },
  {
   "cell_type": "markdown",
   "id": "c6408a5b",
   "metadata": {},
   "source": [
    "### Q5. How do you choose which type of Naive Bayes classifier to use for any given problem?"
   ]
  },
  {
   "cell_type": "markdown",
   "id": "0e010eca",
   "metadata": {},
   "source": [
    "\n",
    "The Naive Bayes classifier is a simple and effective machine learning algorithm that is used for a wide range of applications such as text classification, spam filtering, sentiment analysis, and more. There are three types of Naive Bayes classifiers: Gaussian Naive Bayes, Multinomial Naive Bayes, and Bernoulli Naive Bayes. The choice of which Naive Bayes classifier to use for a given problem depends on the nature of the data and the problem at hand. Here are some guidelines to help you choose the appropriate type of Naive Bayes classifier:\n",
    "\n",
    "1) Gaussian Naive Bayes: This type of classifier is used when the features are continuous variables that follow a Gaussian distribution. It is often used for problems such as image classification and spam filtering, where the features are numeric values.\n",
    "\n",
    "\n",
    "2) Multinomial Naive Bayes: This type of classifier is used when the features are discrete variables such as word counts in text classification problems. It is often used in natural language processing applications, such as sentiment analysis and text classification.\n",
    "\n",
    "\n",
    "3) Bernoulli Naive Bayes: This type of classifier is similar to the Multinomial Naive Bayes classifier, but it is used for solving some text classification problems when the features are binary variables such as the presence or absence of a particular word in a document.\n"
   ]
  },
  {
   "cell_type": "markdown",
   "id": "17b7b066",
   "metadata": {},
   "source": [
    "### Q6. Assignment:You have a dataset with two features, X1 and X2, and two possible classes, A and B. You want to use Naive Bayes to classify a new instance with features X1 = 3 and X2 = 4. The following table shows the frequency of each feature value for each class:A=[3, 3, 4, 4, 3, 3, 3], B=[2, 2, 1, 2, 2, 2, 3] Assuming equal prior probabilities for each class, which class would Naive Bayes predi"
   ]
  },
  {
   "cell_type": "markdown",
   "id": "d4273467",
   "metadata": {},
   "source": [
    "A=[3, 3, 4, 4, 3, 3, 3]\n",
    "B=[2, 2, 1, 2, 2, 2, 3]\n",
    "Assuming equal prior probabilities for each class, which class would Naive Bayes predict the new instance to belong to?\n",
    "\n",
    "To use Naive Bayes to classify the new instance with features X1 = 3 and X2 = 4, we need to calculate the posterior probability of the instance belonging to each class, given the values of X1 and X2. The formula for Naive Bayes is given below:\n",
    "\n",
    "P(class|X1,X2) = P(X1,X2|class) * P(class) / P(X1,X2)\n",
    "\n",
    "where class is the class label A or B, and P(X1,X2|class) denotes observing the feature values given the class label. P(class) is the prior probability of the class, and P(X1,X2) is the marginal probability of observing the feature values.\n",
    "\n",
    "To calculate the likelihood of observing the feature values for each class, we can use the frequency table provided in the problem:\n",
    "\n",
    "P(X1=3,X2=4|A) = 3/7 * 4/7 = 0.1224\n",
    "P(X1=3,X2=4|B) = 0/7 * 1/7 = 0\n",
    "\n",
    "To calculate the prior probability of each class, we assume that they are equal, i.e., P(A) = P(B) = 0.5.\n",
    "\n",
    "To calculate the marginal probability of observing the feature values, we can use the law of total probability:\n",
    "\n",
    "P(X1=3,X2=4) = P(X1=3,X2=4|A) * P(A) + P(X1=3,X2=4|B) * P(B)\n",
    "= 0.1224 * 0.5 + 0 * 0.5\n",
    "= 0.0612\n",
    "\n",
    "Finally, we can calculate the posterior probability of the instance belonging to each class:\n",
    "\n",
    "P(A|X1=3,X2=4) = P(X1=3,X2=4|A) * P(A) / P(X1=3,X2=4)\n",
    "= 0.1224 * 0.5 / 0.0612\n",
    "= 1\n",
    "\n",
    "P(B|X1=3,X2=4) = P(X1=3,X2=4|B) * P(B) / P(X1=3,X2=4)\n",
    "= 0 * 0.5 / 0.0612\n",
    "= 0\n",
    "\n",
    "Therefore, Naive Bayes would predict that the new instance belongs to class A.\n",
    "\n",
    "ALTERNATIVE METHOD\n",
    "\n",
    "To predict the class of a new instance with features X1 = 3 and X2 = 4 using Naive Bayes, we need to calculate the posterior probabilities of the instance belonging to each class, given the observed feature values. We can use the Naive Bayes formula:\n",
    "\n",
    "P(class|X1=3,X2=4) = P(X1=3,X2=4|class) * P(class) / P(X1=3,X2=4)\n",
    "\n",
    "where P(X1=3,X2=4|class) is the likelihood of observing the feature values given the class, P(class) is the prior probability of the class, and P(X1=3,X2=4) is the marginal probability of observing the feature values.\n",
    "\n",
    "To calculate the likelihood of observing the feature values for each class, we can count the number of times each feature value occurs in the training data for each class and compute the corresponding probabilities:\n",
    "\n",
    "P(X1=3|A) = 4/7, P(X2=4|A) = 3/7, P(X1=3|B) = 0/7, P(X2=4|B) = 1/7\n",
    "\n",
    "Using these values, we can calculate the posterior probabilities of the new instance belonging to each class, given the observed feature values:\n",
    "\n",
    "P(A|X1=3,X2=4) = P(X1=3,X2=4|A) * P(A) / P(X1=3,X2=4) = (4/7) * (1/2) / ((4/7)(1/2) + (0/7)(1/2)) = 1"
   ]
  },
  {
   "cell_type": "code",
   "execution_count": null,
   "id": "2014bd05",
   "metadata": {},
   "outputs": [],
   "source": []
  }
 ],
 "metadata": {
  "kernelspec": {
   "display_name": "Python 3 (ipykernel)",
   "language": "python",
   "name": "python3"
  },
  "language_info": {
   "codemirror_mode": {
    "name": "ipython",
    "version": 3
   },
   "file_extension": ".py",
   "mimetype": "text/x-python",
   "name": "python",
   "nbconvert_exporter": "python",
   "pygments_lexer": "ipython3",
   "version": "3.10.7"
  }
 },
 "nbformat": 4,
 "nbformat_minor": 5
}
