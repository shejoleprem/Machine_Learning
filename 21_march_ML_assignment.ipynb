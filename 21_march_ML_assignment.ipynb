{
 "cells": [
  {
   "cell_type": "markdown",
   "id": "66a382a8",
   "metadata": {},
   "source": [
    "## 21_march_ML_assignment"
   ]
  },
  {
   "cell_type": "markdown",
   "id": "334df8cf",
   "metadata": {},
   "source": [
    "### Q1. What is the difference between Ordinal Encoding and Label Encoding? Provide an example of when you might choose one over the other."
   ]
  },
  {
   "cell_type": "markdown",
   "id": "78009735",
   "metadata": {},
   "source": [
    "* in ordinal encoding we assign the ranks to different categories based on their order while in label encoding we assign the different labels to different categories in sequential order.\n",
    "#### example of ordinal encoding\n",
    "* if we have a column of data with the values \"low\", \"medium\", and \"high\", we could use ordinal encoding to assign the values 1, 2, and 3, respectively.\n",
    "#### example of Label Encoding\n",
    "* if we have a column of data with the values \"low\", \"medium\", and \"high\", you could use label encoding to assign the values 0, 1, and 2, respectively.\n"
   ]
  },
  {
   "cell_type": "markdown",
   "id": "da4f21f5",
   "metadata": {},
   "source": [
    "### Q2. Explain how Target Guided Ordinal Encoding works and when you might use it in a machine learning project."
   ]
  },
  {
   "cell_type": "markdown",
   "id": "3ccb0921",
   "metadata": {},
   "source": [
    "* Target Guided Ordinal Encoding (TGO) is a technique for encoding categorical data that takes into account the target variable\n",
    "* TGO works by first calculating the mean of the target variable for each category.\n",
    "* The mean is then used to assign a numerical value to each category. The higher the mean, the higher the numerical value."
   ]
  },
  {
   "cell_type": "markdown",
   "id": "045a03c1",
   "metadata": {},
   "source": [
    "### Q3. Define covariance and explain why it is important in statistical analysis. How is covariance calculated?"
   ]
  },
  {
   "cell_type": "markdown",
   "id": "1bbb2857",
   "metadata": {},
   "source": [
    "* covarience is a measure of how two features are related with each other.\n",
    "* it is calculated by taking average of product of deviations from the mean for each variable.\n",
    "* Covariance can be positive, negative, or zero\n",
    "* A positive covariance indicates that the variables are positively correlated, meaning that they tend to move in the same direction. \n",
    "* A negative covariance indicates that the variables are negatively correlated, meaning that they tend to move in opposite directions\n",
    "* A zero covariance indicates that the variables are not correlated at all."
   ]
  },
  {
   "cell_type": "markdown",
   "id": "cc80fa75",
   "metadata": {},
   "source": [
    "### Q4. For a dataset with the following categorical variables: Color (red, green, blue), Size (small, medium, large), and Material (wood, metal, plastic), perform label encoding using Python's scikit-learn library. Show your code and explain the output."
   ]
  },
  {
   "cell_type": "code",
   "execution_count": 1,
   "id": "381245e6",
   "metadata": {},
   "outputs": [],
   "source": [
    "import pandas as pd\n",
    "df=pd.DataFrame({'Color':['red','green','blue'],\n",
    "                 'Size':['small','medium','large'],\n",
    "                 'Material':['wood','metal','plastic']\n",
    "                })"
   ]
  },
  {
   "cell_type": "code",
   "execution_count": 2,
   "id": "01840ccf",
   "metadata": {},
   "outputs": [
    {
     "data": {
      "text/html": [
       "<div>\n",
       "<style scoped>\n",
       "    .dataframe tbody tr th:only-of-type {\n",
       "        vertical-align: middle;\n",
       "    }\n",
       "\n",
       "    .dataframe tbody tr th {\n",
       "        vertical-align: top;\n",
       "    }\n",
       "\n",
       "    .dataframe thead th {\n",
       "        text-align: right;\n",
       "    }\n",
       "</style>\n",
       "<table border=\"1\" class=\"dataframe\">\n",
       "  <thead>\n",
       "    <tr style=\"text-align: right;\">\n",
       "      <th></th>\n",
       "      <th>Color</th>\n",
       "      <th>Size</th>\n",
       "      <th>Material</th>\n",
       "    </tr>\n",
       "  </thead>\n",
       "  <tbody>\n",
       "    <tr>\n",
       "      <th>0</th>\n",
       "      <td>red</td>\n",
       "      <td>small</td>\n",
       "      <td>wood</td>\n",
       "    </tr>\n",
       "    <tr>\n",
       "      <th>1</th>\n",
       "      <td>green</td>\n",
       "      <td>medium</td>\n",
       "      <td>metal</td>\n",
       "    </tr>\n",
       "    <tr>\n",
       "      <th>2</th>\n",
       "      <td>blue</td>\n",
       "      <td>large</td>\n",
       "      <td>plastic</td>\n",
       "    </tr>\n",
       "  </tbody>\n",
       "</table>\n",
       "</div>"
      ],
      "text/plain": [
       "   Color    Size Material\n",
       "0    red   small     wood\n",
       "1  green  medium    metal\n",
       "2   blue   large  plastic"
      ]
     },
     "execution_count": 2,
     "metadata": {},
     "output_type": "execute_result"
    }
   ],
   "source": [
    "df"
   ]
  },
  {
   "cell_type": "code",
   "execution_count": 3,
   "id": "1b315149",
   "metadata": {},
   "outputs": [],
   "source": [
    "from sklearn.preprocessing import LabelEncoder"
   ]
  },
  {
   "cell_type": "code",
   "execution_count": 4,
   "id": "c6a0e5e2",
   "metadata": {},
   "outputs": [],
   "source": [
    "le=LabelEncoder()"
   ]
  },
  {
   "cell_type": "code",
   "execution_count": 9,
   "id": "86d7be69",
   "metadata": {},
   "outputs": [
    {
     "name": "stderr",
     "output_type": "stream",
     "text": [
      "C:\\Users\\91957\\AppData\\Roaming\\Python\\Python310\\site-packages\\sklearn\\preprocessing\\_label.py:116: DataConversionWarning: A column-vector y was passed when a 1d array was expected. Please change the shape of y to (n_samples, ), for example using ravel().\n",
      "  y = column_or_1d(y, warn=True)\n"
     ]
    }
   ],
   "source": [
    "df['Color']=le.fit_transform(df[['Color']])"
   ]
  },
  {
   "cell_type": "code",
   "execution_count": 10,
   "id": "1273f528",
   "metadata": {},
   "outputs": [
    {
     "name": "stderr",
     "output_type": "stream",
     "text": [
      "C:\\Users\\91957\\AppData\\Roaming\\Python\\Python310\\site-packages\\sklearn\\preprocessing\\_label.py:116: DataConversionWarning: A column-vector y was passed when a 1d array was expected. Please change the shape of y to (n_samples, ), for example using ravel().\n",
      "  y = column_or_1d(y, warn=True)\n"
     ]
    }
   ],
   "source": [
    "df['Size']=le.fit_transform(df[['Size']])"
   ]
  },
  {
   "cell_type": "code",
   "execution_count": 17,
   "id": "78278c9f",
   "metadata": {},
   "outputs": [
    {
     "name": "stderr",
     "output_type": "stream",
     "text": [
      "C:\\Users\\91957\\AppData\\Roaming\\Python\\Python310\\site-packages\\sklearn\\preprocessing\\_label.py:116: DataConversionWarning: A column-vector y was passed when a 1d array was expected. Please change the shape of y to (n_samples, ), for example using ravel().\n",
      "  y = column_or_1d(y, warn=True)\n"
     ]
    },
    {
     "data": {
      "text/plain": [
       "array([2, 0, 1])"
      ]
     },
     "execution_count": 17,
     "metadata": {},
     "output_type": "execute_result"
    }
   ],
   "source": [
    "le.fit_transform(df[['Material']])"
   ]
  },
  {
   "cell_type": "code",
   "execution_count": 18,
   "id": "d25eddc2",
   "metadata": {},
   "outputs": [
    {
     "data": {
      "text/html": [
       "<div>\n",
       "<style scoped>\n",
       "    .dataframe tbody tr th:only-of-type {\n",
       "        vertical-align: middle;\n",
       "    }\n",
       "\n",
       "    .dataframe tbody tr th {\n",
       "        vertical-align: top;\n",
       "    }\n",
       "\n",
       "    .dataframe thead th {\n",
       "        text-align: right;\n",
       "    }\n",
       "</style>\n",
       "<table border=\"1\" class=\"dataframe\">\n",
       "  <thead>\n",
       "    <tr style=\"text-align: right;\">\n",
       "      <th></th>\n",
       "      <th>Color</th>\n",
       "      <th>Size</th>\n",
       "      <th>Material</th>\n",
       "    </tr>\n",
       "  </thead>\n",
       "  <tbody>\n",
       "    <tr>\n",
       "      <th>0</th>\n",
       "      <td>2</td>\n",
       "      <td>2</td>\n",
       "      <td>wood</td>\n",
       "    </tr>\n",
       "    <tr>\n",
       "      <th>1</th>\n",
       "      <td>1</td>\n",
       "      <td>1</td>\n",
       "      <td>metal</td>\n",
       "    </tr>\n",
       "    <tr>\n",
       "      <th>2</th>\n",
       "      <td>0</td>\n",
       "      <td>0</td>\n",
       "      <td>plastic</td>\n",
       "    </tr>\n",
       "  </tbody>\n",
       "</table>\n",
       "</div>"
      ],
      "text/plain": [
       "   Color  Size Material\n",
       "0      2     2     wood\n",
       "1      1     1    metal\n",
       "2      0     0  plastic"
      ]
     },
     "execution_count": 18,
     "metadata": {},
     "output_type": "execute_result"
    }
   ],
   "source": [
    "df"
   ]
  },
  {
   "cell_type": "markdown",
   "id": "92d6836f",
   "metadata": {},
   "source": [
    "## Q5. Calculate the covariance matrix for the following variables in a dataset: Age, Income, and Education level. Interpret the results."
   ]
  },
  {
   "cell_type": "markdown",
   "id": "0497fae5",
   "metadata": {},
   "source": [
    "* The covariance matrix shows the covariance between each pair of variables. The covariance between two variables is a measure of how much they vary together. A positive covariance indicates that the variables tend to vary in the same direction, while a negative covariance indicates that they tend to vary in opposite directions.\n",
    "\n",
    "* The covariance between Income and Education level is also positive, indicating that they tend to vary in the same direction. This means that people with more education tend to earn more money.\n",
    "\n",
    "* The covariance between Income and Education level is also positive, indicating that they tend to vary in the same direction. This means that people with more education tend to earn more money.\n"
   ]
  },
  {
   "cell_type": "markdown",
   "id": "46c5e143",
   "metadata": {},
   "source": [
    "### Q6. You are working on a machine learning project with a dataset containing several categorical variables, including \"Gender\" (Male/Female), \"Education Level\" (High School/Bachelor's/Master's/PhD), and \"Employment Status\" (Unemployed/Part-Time/Full-Time). Which encoding method would you use for each variable, and why?"
   ]
  },
  {
   "cell_type": "markdown",
   "id": "a67f2450",
   "metadata": {},
   "source": [
    "* For the \"Gender\" variable, I would use label encoding. This is because the categories in this variable are mutually exclusive and have no inherent order. Label encoding simply assigns a unique integer value to each category. For example, Male could be assigned the value 0 and Female could be assigned the value 1.\n",
    "\n",
    "* For the \"Education Level\" variable, I would use one-hot encoding. This is because the categories in this variable are not mutually exclusive. For example, someone could have a Bachelor's degree and also be working towards a Master's degree. One-hot encoding creates a new binary variable for each category. For example, if there are four education levels (High School, Bachelor's, Master's, and PhD), then one-hot encoding would create four new binary variables. The first variable would indicate whether the person has a High School diploma, the second variable would indicate whether the person has a Bachelor's degree, and so on.\n",
    "\n",
    "* For the \"Employment Status\" variable, I would use label encoding. This is because the categories in this variable are mutually exclusive and have no inherent order. Label encoding would simply assign a unique integer value to each category. For example, Unemployed could be assigned the value 0, Part-Time could be assigned the value 1, and Full-Time could be assigned the value 2."
   ]
  },
  {
   "cell_type": "markdown",
   "id": "972ece10",
   "metadata": {},
   "source": [
    "### Q7. You are analyzing a dataset with two continuous variables, \"Temperature\" and \"Humidity\", and two categorical variables, \"Weather Condition\" (Sunny/Cloudy/Rainy) and \"Wind Direction\" (North/South/ East/West). Calculate the covariance between each pair of variables."
   ]
  },
  {
   "cell_type": "code",
   "execution_count": 19,
   "id": "ee1cf670",
   "metadata": {},
   "outputs": [],
   "source": [
    "import pandas as pd"
   ]
  },
  {
   "cell_type": "code",
   "execution_count": 20,
   "id": "f58b0179",
   "metadata": {},
   "outputs": [],
   "source": [
    "df1=pd.DataFrame({'Temperature':[38,30,20,22],\n",
    "                 'Humidity':[20,28,38,32],\n",
    "                  'Weather':['Sunny','Cloudy','Rainy','Cloudy'],\n",
    "                  'Wind':['North','South','East','West']\n",
    "                 })"
   ]
  },
  {
   "cell_type": "code",
   "execution_count": 21,
   "id": "376fc0ae",
   "metadata": {},
   "outputs": [
    {
     "data": {
      "text/html": [
       "<div>\n",
       "<style scoped>\n",
       "    .dataframe tbody tr th:only-of-type {\n",
       "        vertical-align: middle;\n",
       "    }\n",
       "\n",
       "    .dataframe tbody tr th {\n",
       "        vertical-align: top;\n",
       "    }\n",
       "\n",
       "    .dataframe thead th {\n",
       "        text-align: right;\n",
       "    }\n",
       "</style>\n",
       "<table border=\"1\" class=\"dataframe\">\n",
       "  <thead>\n",
       "    <tr style=\"text-align: right;\">\n",
       "      <th></th>\n",
       "      <th>Temperature</th>\n",
       "      <th>Humidity</th>\n",
       "      <th>Weather</th>\n",
       "      <th>Wind</th>\n",
       "    </tr>\n",
       "  </thead>\n",
       "  <tbody>\n",
       "    <tr>\n",
       "      <th>0</th>\n",
       "      <td>38</td>\n",
       "      <td>20</td>\n",
       "      <td>Sunny</td>\n",
       "      <td>North</td>\n",
       "    </tr>\n",
       "    <tr>\n",
       "      <th>1</th>\n",
       "      <td>30</td>\n",
       "      <td>28</td>\n",
       "      <td>Cloudy</td>\n",
       "      <td>South</td>\n",
       "    </tr>\n",
       "    <tr>\n",
       "      <th>2</th>\n",
       "      <td>20</td>\n",
       "      <td>38</td>\n",
       "      <td>Rainy</td>\n",
       "      <td>East</td>\n",
       "    </tr>\n",
       "    <tr>\n",
       "      <th>3</th>\n",
       "      <td>22</td>\n",
       "      <td>32</td>\n",
       "      <td>Cloudy</td>\n",
       "      <td>West</td>\n",
       "    </tr>\n",
       "  </tbody>\n",
       "</table>\n",
       "</div>"
      ],
      "text/plain": [
       "   Temperature  Humidity Weather   Wind\n",
       "0           38        20   Sunny  North\n",
       "1           30        28  Cloudy  South\n",
       "2           20        38   Rainy   East\n",
       "3           22        32  Cloudy   West"
      ]
     },
     "execution_count": 21,
     "metadata": {},
     "output_type": "execute_result"
    }
   ],
   "source": [
    "df1"
   ]
  },
  {
   "cell_type": "code",
   "execution_count": 22,
   "id": "fd9931da",
   "metadata": {},
   "outputs": [
    {
     "name": "stderr",
     "output_type": "stream",
     "text": [
      "C:\\Users\\91957\\AppData\\Local\\Temp\\ipykernel_16856\\3142585312.py:1: FutureWarning: The default value of numeric_only in DataFrame.cov is deprecated. In a future version, it will default to False. Select only valid columns or specify the value of numeric_only to silence this warning.\n",
      "  df1.cov()\n"
     ]
    },
    {
     "data": {
      "text/html": [
       "<div>\n",
       "<style scoped>\n",
       "    .dataframe tbody tr th:only-of-type {\n",
       "        vertical-align: middle;\n",
       "    }\n",
       "\n",
       "    .dataframe tbody tr th {\n",
       "        vertical-align: top;\n",
       "    }\n",
       "\n",
       "    .dataframe thead th {\n",
       "        text-align: right;\n",
       "    }\n",
       "</style>\n",
       "<table border=\"1\" class=\"dataframe\">\n",
       "  <thead>\n",
       "    <tr style=\"text-align: right;\">\n",
       "      <th></th>\n",
       "      <th>Temperature</th>\n",
       "      <th>Humidity</th>\n",
       "    </tr>\n",
       "  </thead>\n",
       "  <tbody>\n",
       "    <tr>\n",
       "      <th>Temperature</th>\n",
       "      <td>67.666667</td>\n",
       "      <td>-60.333333</td>\n",
       "    </tr>\n",
       "    <tr>\n",
       "      <th>Humidity</th>\n",
       "      <td>-60.333333</td>\n",
       "      <td>57.000000</td>\n",
       "    </tr>\n",
       "  </tbody>\n",
       "</table>\n",
       "</div>"
      ],
      "text/plain": [
       "             Temperature   Humidity\n",
       "Temperature    67.666667 -60.333333\n",
       "Humidity      -60.333333  57.000000"
      ]
     },
     "execution_count": 22,
     "metadata": {},
     "output_type": "execute_result"
    }
   ],
   "source": [
    "df1.cov()"
   ]
  },
  {
   "cell_type": "markdown",
   "id": "8742b91a",
   "metadata": {},
   "source": [
    "### interpretation\n",
    "* as temperature increases Humitdity will be decrease\n",
    "* as temperature decrease Humitdity will be increases"
   ]
  },
  {
   "cell_type": "code",
   "execution_count": null,
   "id": "570c9c75",
   "metadata": {},
   "outputs": [],
   "source": []
  }
 ],
 "metadata": {
  "kernelspec": {
   "display_name": "Python 3 (ipykernel)",
   "language": "python",
   "name": "python3"
  },
  "language_info": {
   "codemirror_mode": {
    "name": "ipython",
    "version": 3
   },
   "file_extension": ".py",
   "mimetype": "text/x-python",
   "name": "python",
   "nbconvert_exporter": "python",
   "pygments_lexer": "ipython3",
   "version": "3.10.7"
  }
 },
 "nbformat": 4,
 "nbformat_minor": 5
}
