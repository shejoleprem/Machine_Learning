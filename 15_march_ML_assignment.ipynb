{
 "cells": [
  {
   "cell_type": "markdown",
   "id": "6893f966",
   "metadata": {},
   "source": [
    "## 15_march_ML_assignment"
   ]
  },
  {
   "cell_type": "markdown",
   "id": "aacb4229",
   "metadata": {},
   "source": [
    "#### Q1.Explain the following with example"
   ]
  },
  {
   "cell_type": "markdown",
   "id": "14a3598a",
   "metadata": {},
   "source": [
    "1) Artificial intellengence:   AI involves the development of algorithms and models that can process and analyze large amounts of data to make predictions and decisions.\n",
    "\n",
    "2) machine learning : ML is a subset of AI that involves training computer systems to automatically improve their performance on a specific task by learning from data\n",
    "\n",
    "example: customer segmentation\n",
    "\n",
    "3) Deep learning : subfield of ML that involves training artificial neural networks to learn and make decisions on complex datasets.\n",
    "\n",
    "example: helmet detectio using Convulutional neural network"
   ]
  },
  {
   "cell_type": "markdown",
   "id": "5720f27d",
   "metadata": {},
   "source": [
    "#### Q2.What is supervised learning? list some examples of supervised learning"
   ]
  },
  {
   "cell_type": "markdown",
   "id": "3681d35d",
   "metadata": {},
   "source": [
    "ml algorithm train model based on labelled dataset is called supervised learning.\n",
    "\n",
    "example: heart disease prediction, house price prediction\n",
    "    "
   ]
  },
  {
   "cell_type": "markdown",
   "id": "e0aba4fd",
   "metadata": {},
   "source": [
    "#### Q3.What is unsupervised learning? list some examples of unsupervised learning"
   ]
  },
  {
   "cell_type": "markdown",
   "id": "58be68c3",
   "metadata": {},
   "source": [
    "ml algorithm train model based on unlabelled dataset is called unsupervised learning\n",
    "example: heart disease prediction, house price prediction\n",
    "    \n",
    "example: Anamoly Detection"
   ]
  },
  {
   "cell_type": "markdown",
   "id": "4ea0125d",
   "metadata": {},
   "source": [
    "#### Q4.what is difference between AI,ML and DS?"
   ]
  },
  {
   "cell_type": "markdown",
   "id": "fb047ab1",
   "metadata": {},
   "source": [
    "AI:AI is a broad field that encompassesthe development of intelligent systems that can perform tasks that would normally \n",
    "require human intelligence,such as natural language processing, computer vision, decision-making, and problem-solving.\n",
    "\n",
    "ML: ML is a subset of AI that focuses on the development of algorithms and models that can learn from data to make predictions \n",
    "and decisions\n",
    "\n",
    "DS : DS is a field that focuses on extracting insights and knowledge from data using various techniques, including statistical\n",
    "analysis, machine learning, and data visualization\n",
    "    "
   ]
  },
  {
   "cell_type": "markdown",
   "id": "7467af38",
   "metadata": {},
   "source": [
    "#### Q5.What are the main differences between supervised, unsupervised, and semi-supervised learning?"
   ]
  },
  {
   "cell_type": "markdown",
   "id": "4e39aa24",
   "metadata": {},
   "source": [
    "in supervised learning the model is trained on labelled data\n",
    "\n",
    "in unsupervised learning model is trained on unlabelled data\n",
    "\n",
    "in semisupervised learning model trained on both labelled and unlabelled data"
   ]
  },
  {
   "cell_type": "markdown",
   "id": "da53dedf",
   "metadata": {},
   "source": [
    "#### Q6. What is train, test and validation split? Explain the importance of each term."
   ]
  },
  {
   "cell_type": "markdown",
   "id": "c49f4fa2",
   "metadata": {},
   "source": [
    "ml model is trained on training dataset and tested on testing dataset and the accuracy can be calculated on validation dataset.1\n"
   ]
  },
  {
   "cell_type": "markdown",
   "id": "739f224e",
   "metadata": {},
   "source": [
    "#### Q7. How can unsupervised learning be used in anomaly detection?"
   ]
  },
  {
   "cell_type": "markdown",
   "id": "1ad130c5",
   "metadata": {},
   "source": [
    "Unsupervised learning can be used in anomaly detection to identify unusual or rare events or observations in data"
   ]
  },
  {
   "cell_type": "markdown",
   "id": "9f2f3455",
   "metadata": {},
   "source": [
    "#### Q8. list down some algorithms used in supervised and unsupervised learning"
   ]
  },
  {
   "cell_type": "markdown",
   "id": "bcfc157a",
   "metadata": {},
   "source": [
    "1. supervised learning\n",
    "\n",
    "-linear regression\n",
    "\n",
    "-logistic regression\n",
    "\n",
    "-Naive Bayes classificaton\n",
    "\n",
    "-Boosting algorithm\n",
    "\n",
    "2. unsupervised learning \n",
    "\n",
    "-clustering\n",
    "\n",
    "-principle component analysis\n",
    "\n",
    "-Gaussian Mixture Models"
   ]
  },
  {
   "cell_type": "code",
   "execution_count": null,
   "id": "5fa40d84",
   "metadata": {},
   "outputs": [],
   "source": []
  }
 ],
 "metadata": {
  "kernelspec": {
   "display_name": "Python 3 (ipykernel)",
   "language": "python",
   "name": "python3"
  },
  "language_info": {
   "codemirror_mode": {
    "name": "ipython",
    "version": 3
   },
   "file_extension": ".py",
   "mimetype": "text/x-python",
   "name": "python",
   "nbconvert_exporter": "python",
   "pygments_lexer": "ipython3",
   "version": "3.10.7"
  }
 },
 "nbformat": 4,
 "nbformat_minor": 5
}
