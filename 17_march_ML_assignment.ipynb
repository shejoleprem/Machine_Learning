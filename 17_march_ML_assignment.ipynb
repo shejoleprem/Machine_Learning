{
 "cells": [
  {
   "cell_type": "markdown",
   "id": "9cfb9c19",
   "metadata": {},
   "source": [
    "## 17_march"
   ]
  },
  {
   "cell_type": "markdown",
   "id": "7c6c3cfc",
   "metadata": {},
   "source": [
    "### Q1: What are missing values in a dataset? Why is it essential to handle missing values? Name some algorithms that are not affected by missing values."
   ]
  },
  {
   "cell_type": "markdown",
   "id": "0846697f",
   "metadata": {},
   "source": [
    "* missing values in dataset are the absence of values for one or more variable in a dataset.\n",
    "* missing values can occur due to various reason such as data collection errors, data corruption.\n",
    "* handling missing values is important for several reason.\n",
    "* accurate anaysis\n",
    "* to preserve data integrity\n",
    "* to utilize available information\n",
    "\n",
    "* algorithms which are not affected by missing values\n",
    "* Decision Trees\n",
    "* random Forest\n",
    "* Naive Bayes\n",
    "* KNN"
   ]
  },
  {
   "cell_type": "markdown",
   "id": "1b647137",
   "metadata": {},
   "source": [
    "### Q2: List down techniques used to handle missing data. Give an example of each with python code."
   ]
  },
  {
   "cell_type": "code",
   "execution_count": 2,
   "id": "aa0ea2db",
   "metadata": {},
   "outputs": [
    {
     "data": {
      "text/html": [
       "<div>\n",
       "<style scoped>\n",
       "    .dataframe tbody tr th:only-of-type {\n",
       "        vertical-align: middle;\n",
       "    }\n",
       "\n",
       "    .dataframe tbody tr th {\n",
       "        vertical-align: top;\n",
       "    }\n",
       "\n",
       "    .dataframe thead th {\n",
       "        text-align: right;\n",
       "    }\n",
       "</style>\n",
       "<table border=\"1\" class=\"dataframe\">\n",
       "  <thead>\n",
       "    <tr style=\"text-align: right;\">\n",
       "      <th></th>\n",
       "      <th>A</th>\n",
       "      <th>B</th>\n",
       "    </tr>\n",
       "  </thead>\n",
       "  <tbody>\n",
       "    <tr>\n",
       "      <th>0</th>\n",
       "      <td>1.0</td>\n",
       "      <td>4.0</td>\n",
       "    </tr>\n",
       "    <tr>\n",
       "      <th>1</th>\n",
       "      <td>2.0</td>\n",
       "      <td>5.0</td>\n",
       "    </tr>\n",
       "    <tr>\n",
       "      <th>2</th>\n",
       "      <td>NaN</td>\n",
       "      <td>6.0</td>\n",
       "    </tr>\n",
       "    <tr>\n",
       "      <th>3</th>\n",
       "      <td>3.0</td>\n",
       "      <td>NaN</td>\n",
       "    </tr>\n",
       "  </tbody>\n",
       "</table>\n",
       "</div>"
      ],
      "text/plain": [
       "     A    B\n",
       "0  1.0  4.0\n",
       "1  2.0  5.0\n",
       "2  NaN  6.0\n",
       "3  3.0  NaN"
      ]
     },
     "execution_count": 2,
     "metadata": {},
     "output_type": "execute_result"
    }
   ],
   "source": [
    "# Removal of Rows and Columns\n",
    "# Dropping Rows\n",
    "import pandas as pd\n",
    "df=pd.DataFrame({'A':[1,2,None,3],\n",
    "                 'B':[4,5,6,None]\n",
    "                })\n",
    "df.head()"
   ]
  },
  {
   "cell_type": "code",
   "execution_count": 4,
   "id": "ef9a3037",
   "metadata": {},
   "outputs": [
    {
     "data": {
      "text/html": [
       "<div>\n",
       "<style scoped>\n",
       "    .dataframe tbody tr th:only-of-type {\n",
       "        vertical-align: middle;\n",
       "    }\n",
       "\n",
       "    .dataframe tbody tr th {\n",
       "        vertical-align: top;\n",
       "    }\n",
       "\n",
       "    .dataframe thead th {\n",
       "        text-align: right;\n",
       "    }\n",
       "</style>\n",
       "<table border=\"1\" class=\"dataframe\">\n",
       "  <thead>\n",
       "    <tr style=\"text-align: right;\">\n",
       "      <th></th>\n",
       "      <th>A</th>\n",
       "      <th>B</th>\n",
       "    </tr>\n",
       "  </thead>\n",
       "  <tbody>\n",
       "    <tr>\n",
       "      <th>0</th>\n",
       "      <td>1.0</td>\n",
       "      <td>4.0</td>\n",
       "    </tr>\n",
       "    <tr>\n",
       "      <th>1</th>\n",
       "      <td>2.0</td>\n",
       "      <td>5.0</td>\n",
       "    </tr>\n",
       "  </tbody>\n",
       "</table>\n",
       "</div>"
      ],
      "text/plain": [
       "     A    B\n",
       "0  1.0  4.0\n",
       "1  2.0  5.0"
      ]
     },
     "execution_count": 4,
     "metadata": {},
     "output_type": "execute_result"
    }
   ],
   "source": [
    "df.dropna()\n"
   ]
  },
  {
   "cell_type": "code",
   "execution_count": 5,
   "id": "c3358032",
   "metadata": {},
   "outputs": [
    {
     "data": {
      "text/html": [
       "<div>\n",
       "<style scoped>\n",
       "    .dataframe tbody tr th:only-of-type {\n",
       "        vertical-align: middle;\n",
       "    }\n",
       "\n",
       "    .dataframe tbody tr th {\n",
       "        vertical-align: top;\n",
       "    }\n",
       "\n",
       "    .dataframe thead th {\n",
       "        text-align: right;\n",
       "    }\n",
       "</style>\n",
       "<table border=\"1\" class=\"dataframe\">\n",
       "  <thead>\n",
       "    <tr style=\"text-align: right;\">\n",
       "      <th></th>\n",
       "      <th>A</th>\n",
       "      <th>B</th>\n",
       "    </tr>\n",
       "  </thead>\n",
       "  <tbody>\n",
       "    <tr>\n",
       "      <th>0</th>\n",
       "      <td>1</td>\n",
       "      <td>7.0</td>\n",
       "    </tr>\n",
       "    <tr>\n",
       "      <th>1</th>\n",
       "      <td>2</td>\n",
       "      <td>8.0</td>\n",
       "    </tr>\n",
       "    <tr>\n",
       "      <th>2</th>\n",
       "      <td>3</td>\n",
       "      <td>9.0</td>\n",
       "    </tr>\n",
       "    <tr>\n",
       "      <th>3</th>\n",
       "      <td>4</td>\n",
       "      <td>10.0</td>\n",
       "    </tr>\n",
       "    <tr>\n",
       "      <th>4</th>\n",
       "      <td>5</td>\n",
       "      <td>NaN</td>\n",
       "    </tr>\n",
       "  </tbody>\n",
       "</table>\n",
       "</div>"
      ],
      "text/plain": [
       "   A     B\n",
       "0  1   7.0\n",
       "1  2   8.0\n",
       "2  3   9.0\n",
       "3  4  10.0\n",
       "4  5   NaN"
      ]
     },
     "execution_count": 5,
     "metadata": {},
     "output_type": "execute_result"
    }
   ],
   "source": [
    "# Dropping Columns\n",
    "df_col=pd.DataFrame({'A':[1,2,3,4,5,6],\n",
    "                    'B':[7,8,9,10,None,11]})\n",
    "df_col.head()"
   ]
  },
  {
   "cell_type": "code",
   "execution_count": 6,
   "id": "34183d5f",
   "metadata": {},
   "outputs": [
    {
     "data": {
      "text/html": [
       "<div>\n",
       "<style scoped>\n",
       "    .dataframe tbody tr th:only-of-type {\n",
       "        vertical-align: middle;\n",
       "    }\n",
       "\n",
       "    .dataframe tbody tr th {\n",
       "        vertical-align: top;\n",
       "    }\n",
       "\n",
       "    .dataframe thead th {\n",
       "        text-align: right;\n",
       "    }\n",
       "</style>\n",
       "<table border=\"1\" class=\"dataframe\">\n",
       "  <thead>\n",
       "    <tr style=\"text-align: right;\">\n",
       "      <th></th>\n",
       "      <th>A</th>\n",
       "    </tr>\n",
       "  </thead>\n",
       "  <tbody>\n",
       "    <tr>\n",
       "      <th>0</th>\n",
       "      <td>1</td>\n",
       "    </tr>\n",
       "    <tr>\n",
       "      <th>1</th>\n",
       "      <td>2</td>\n",
       "    </tr>\n",
       "    <tr>\n",
       "      <th>2</th>\n",
       "      <td>3</td>\n",
       "    </tr>\n",
       "    <tr>\n",
       "      <th>3</th>\n",
       "      <td>4</td>\n",
       "    </tr>\n",
       "    <tr>\n",
       "      <th>4</th>\n",
       "      <td>5</td>\n",
       "    </tr>\n",
       "    <tr>\n",
       "      <th>5</th>\n",
       "      <td>6</td>\n",
       "    </tr>\n",
       "  </tbody>\n",
       "</table>\n",
       "</div>"
      ],
      "text/plain": [
       "   A\n",
       "0  1\n",
       "1  2\n",
       "2  3\n",
       "3  4\n",
       "4  5\n",
       "5  6"
      ]
     },
     "execution_count": 6,
     "metadata": {},
     "output_type": "execute_result"
    }
   ],
   "source": [
    "df_col.dropna(axis=1)"
   ]
  },
  {
   "cell_type": "code",
   "execution_count": 8,
   "id": "b82cc4fa",
   "metadata": {},
   "outputs": [
    {
     "data": {
      "text/plain": [
       "['anagrams',\n",
       " 'anscombe',\n",
       " 'attention',\n",
       " 'brain_networks',\n",
       " 'car_crashes',\n",
       " 'diamonds',\n",
       " 'dots',\n",
       " 'dowjones',\n",
       " 'exercise',\n",
       " 'flights',\n",
       " 'fmri',\n",
       " 'geyser',\n",
       " 'glue',\n",
       " 'healthexp',\n",
       " 'iris',\n",
       " 'mpg',\n",
       " 'penguins',\n",
       " 'planets',\n",
       " 'seaice',\n",
       " 'taxis',\n",
       " 'tips',\n",
       " 'titanic']"
      ]
     },
     "execution_count": 8,
     "metadata": {},
     "output_type": "execute_result"
    }
   ],
   "source": [
    "# also there are some techniques like mean/median/mode imputation\n",
    "import seaborn as sns\n",
    "sns.get_dataset_names()"
   ]
  },
  {
   "cell_type": "code",
   "execution_count": 9,
   "id": "69c3e397",
   "metadata": {},
   "outputs": [],
   "source": [
    "df=sns.load_dataset('titanic')"
   ]
  },
  {
   "cell_type": "code",
   "execution_count": 10,
   "id": "0e171705",
   "metadata": {},
   "outputs": [
    {
     "data": {
      "text/plain": [
       "survived         0\n",
       "pclass           0\n",
       "sex              0\n",
       "age            177\n",
       "sibsp            0\n",
       "parch            0\n",
       "fare             0\n",
       "embarked         2\n",
       "class            0\n",
       "who              0\n",
       "adult_male       0\n",
       "deck           688\n",
       "embark_town      2\n",
       "alive            0\n",
       "alone            0\n",
       "dtype: int64"
      ]
     },
     "execution_count": 10,
     "metadata": {},
     "output_type": "execute_result"
    }
   ],
   "source": [
    "df.isnull().sum()"
   ]
  },
  {
   "cell_type": "code",
   "execution_count": 13,
   "id": "ed4a9fbb",
   "metadata": {},
   "outputs": [
    {
     "data": {
      "text/plain": [
       "<Axes: xlabel='age', ylabel='Count'>"
      ]
     },
     "execution_count": 13,
     "metadata": {},
     "output_type": "execute_result"
    },
    {
     "data": {
      "image/png": "[encoded data removed]",
      "text/plain": [
       "<Figure size 640x480 with 1 Axes>"
      ]
     },
     "metadata": {},
     "output_type": "display_data"
    }
   ],
   "source": [
    "sns.histplot(df['age'],kde=True)"
   ]
  },
  {
   "cell_type": "code",
   "execution_count": 14,
   "id": "18b93a28",
   "metadata": {},
   "outputs": [],
   "source": [
    "# distribution is similar to normal distribution do we mean imputation technique to handle missing values\n",
    "df['age']=df['age'].fillna(df['age'].mean())"
   ]
  },
  {
   "cell_type": "code",
   "execution_count": 15,
   "id": "221333a5",
   "metadata": {},
   "outputs": [
    {
     "data": {
      "text/plain": [
       "0"
      ]
     },
     "execution_count": 15,
     "metadata": {},
     "output_type": "execute_result"
    }
   ],
   "source": [
    "df['age'].isnull().sum()"
   ]
  },
  {
   "cell_type": "code",
   "execution_count": 19,
   "id": "df15f3bc",
   "metadata": {},
   "outputs": [
    {
     "data": {
      "text/plain": [
       "<Axes: xlabel='deck', ylabel='Count'>"
      ]
     },
     "execution_count": 19,
     "metadata": {},
     "output_type": "execute_result"
    },
    {
     "data": {
      "image/png": "[encoded data removed]",
      "text/plain": [
       "<Figure size 640x480 with 1 Axes>"
      ]
     },
     "metadata": {},
     "output_type": "display_data"
    }
   ],
   "source": [
    "# mode imputation - when dependent variable is categorical\n",
    "sns.histplot(df['deck'],kde=True)"
   ]
  },
  {
   "cell_type": "code",
   "execution_count": 18,
   "id": "ea53c46d",
   "metadata": {},
   "outputs": [],
   "source": [
    "df['deck']=df['deck'].fillna(df['deck'].mode()[0])"
   ]
  },
  {
   "cell_type": "code",
   "execution_count": 20,
   "id": "ddb74bee",
   "metadata": {},
   "outputs": [
    {
     "data": {
      "text/plain": [
       "0"
      ]
     },
     "execution_count": 20,
     "metadata": {},
     "output_type": "execute_result"
    }
   ],
   "source": [
    "df['deck'].isnull().sum()"
   ]
  },
  {
   "cell_type": "markdown",
   "id": "a98c5987",
   "metadata": {},
   "source": [
    "### Q3: Explain the imbalanced data. What will happen if imbalanced data is not handled?"
   ]
  },
  {
   "cell_type": "markdown",
   "id": "b3a7a0d1",
   "metadata": {},
   "source": [
    "*  in a binary classification problem, if 90% of the samples belong to class A and only 10% belong to class B, it is considered imbalanced data.\n",
    "\n",
    "##### if imbalanced data is not handled \n",
    "* Biased Model Performance\n",
    "* Poor Generalization\n",
    "* Misleading Evaluation metrics\n",
    "* loss of important information"
   ]
  },
  {
   "cell_type": "markdown",
   "id": "ebeb8401",
   "metadata": {},
   "source": [
    "### Q4: What are Up-sampling and Down-sampling? Explain with an example when up-sampling and down-sampling are required."
   ]
  },
  {
   "cell_type": "markdown",
   "id": "75ad795a",
   "metadata": {},
   "source": [
    "* upsampling:\n",
    "up-sampling is increasing number of instances in minority class to match number of instances in majority class\n",
    "* example:\n",
    "lets consider majority class A and Minority Class B. dataset contains 900 instances of class A and 100 instances of class B. to upsample the minority class, we can create synthetic samples using techniques like SMOTE.\n",
    "\n",
    "* Down-Sampling:\n",
    "down sampling is reducing the number of instances of majority class to match number of instances in minority class\n",
    "* example:\n",
    "lets consider majority class A and Minority Class B. dataset contains 900 instances of class A and 100 instances of class B. to downsample the majority class, we randomly select the 800 instances from class A and remove them from dataset\n"
   ]
  },
  {
   "cell_type": "markdown",
   "id": "122ba516",
   "metadata": {},
   "source": [
    "### Q5: What is data Augmentation? Explain SMOTE."
   ]
  },
  {
   "cell_type": "markdown",
   "id": "4369bf36",
   "metadata": {},
   "source": [
    "* Data augmentation is a technique used to artificially incrate the size of dataset by creating new samples based on existing data.\n",
    "* SMOTE is designed to address the class imbalance problem in datasets. it creates synthetic samples for minority class by interpolating between neighbouring instances in the feature spaces."
   ]
  },
  {
   "cell_type": "markdown",
   "id": "8d3e865f",
   "metadata": {},
   "source": [
    "###  Q6: What are outliers in a dataset? Why is it essential to handle outliers?"
   ]
  },
  {
   "cell_type": "markdown",
   "id": "10723aab",
   "metadata": {},
   "source": [
    "* outliers are datapoints that significantly deviate from majority of data in a dataset.\n",
    "* outliers are the values which are very high or low compared to rest of data.\n",
    "#### essential to handle outliers forthe following reasons\n",
    "* Biased Model Performance\n",
    "* Misleading Data Visualization\n",
    "* loss of information"
   ]
  },
  {
   "cell_type": "markdown",
   "id": "7c0a11ab",
   "metadata": {},
   "source": [
    "### Q7: You are working on a project that requires analyzing customer data. However, you notice that some of the data is missing. What are some techniques you can use to handle the missing data in your analysis?"
   ]
  },
  {
   "cell_type": "markdown",
   "id": "cbb9775d",
   "metadata": {},
   "source": [
    "* mean imputation if distribution is normal\n",
    "* median imputation if distribution is not normal\n",
    "* mode imputation if dependent variable is categorical"
   ]
  },
  {
   "cell_type": "markdown",
   "id": "b33bc33a",
   "metadata": {},
   "source": [
    "### Q8: You are working with a large dataset and find that a small percentage of the data is missing. What are some strategies you can use to determine if the missing data is missing at random or if there is a pattern to the missing data?"
   ]
  },
  {
   "cell_type": "markdown",
   "id": "ea2d9c18",
   "metadata": {},
   "source": [
    "* Missing Data Visualization\n",
    "* Missing Data Summary\n",
    "* Missing Data Mechanism Tests\n",
    "* Multiplr Imputation Techniques"
   ]
  },
  {
   "cell_type": "markdown",
   "id": "e5f219a7",
   "metadata": {},
   "source": [
    "### Q9: Suppose you are working on a medical diagnosis project and find that the majority of patients in the dataset do not have the condition of interest, while a small percentage do. What are some strategies you can use to evaluate the performance of your machine learning model on this imbalanced dataset?"
   ]
  },
  {
   "cell_type": "markdown",
   "id": "caa286bd",
   "metadata": {},
   "source": [
    "* Confusion Matrix to evaluate the performance of model\n",
    "* Receiver Operating Characteristic (ROC) curve and calculating the Area Under the Curve (AUC) can provide a  evaluation of the model's performance across different classification thresholds.\n",
    "* Precision-Recall Curve\n",
    "* Cross-Validation"
   ]
  },
  {
   "cell_type": "markdown",
   "id": "39ccce7d",
   "metadata": {},
   "source": [
    "### Q10: When attempting to estimate customer satisfaction for a project, you discover that the dataset is unbalanced, with the bulk of customers reporting being satisfied. What methods can you employ to balance the dataset and down-sample the majority class?"
   ]
  },
  {
   "cell_type": "markdown",
   "id": "2e614a9d",
   "metadata": {},
   "source": [
    "* Random Under-Sampling: This approach removes instances randomly from the majority class, achieving a balanced dataset.\n",
    "* Cluster-Based Under-Sampling: This method helps preserve the diversity within the majority class while reducing its overall size.\n",
    "* NearMiss Algorithm: it selects majority class samples based on their proximity to minority class samples\n"
   ]
  },
  {
   "cell_type": "markdown",
   "id": "d004288d",
   "metadata": {},
   "source": [
    "### Q11: You discover that the dataset is unbalanced with a low percentage of occurrences while working on a project that requires you to estimate the occurrence of a rare event. What methods can you employ to balance the dataset and up-sample the minority class?"
   ]
  },
  {
   "cell_type": "markdown",
   "id": "15d8830b",
   "metadata": {},
   "source": [
    "* Random Over-Sampling: Randomly duplicate instances from the minority class to increase its representation in the dataset.\n",
    "* Synthetic Minority Over-sampling Technique (SMOTE):it generates synthetic samples for the minority class by interpolating between neighboring instances\n",
    "* Cluster-Based Over-Sampling:identify clusters within the minority class and then generate synthetic samples within each cluster.\n",
    "* Data Augmentation: Apply data augmentation techniques to increase the number of instances of the minority class"
   ]
  },
  {
   "cell_type": "code",
   "execution_count": null,
   "id": "f957c0f9",
   "metadata": {},
   "outputs": [],
   "source": []
  }
 ],
 "metadata": {
  "kernelspec": {
   "display_name": "Python 3 (ipykernel)",
   "language": "python",
   "name": "python3"
  },
  "language_info": {
   "codemirror_mode": {
    "name": "ipython",
    "version": 3
   },
   "file_extension": ".py",
   "mimetype": "text/x-python",
   "name": "python",
   "nbconvert_exporter": "python",
   "pygments_lexer": "ipython3",
   "version": "3.10.7"
  }
 },
 "nbformat": 4,
 "nbformat_minor": 5
}
