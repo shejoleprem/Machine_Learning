{
 "cells": [
  {
   "cell_type": "markdown",
   "id": "faaee595",
   "metadata": {},
   "source": [
    "## 20_march_Assignment"
   ]
  },
  {
   "cell_type": "markdown",
   "id": "0d546acd",
   "metadata": {},
   "source": [
    "### Q1. What is data encoding? How is it useful in data science?"
   ]
  },
  {
   "cell_type": "markdown",
   "id": "ad6fe28f",
   "metadata": {},
   "source": [
    "*  Data encoding is the process of converting categorical data into numerical data because most machine learning algorithms can only work with numerical data.\n",
    "##### benifits of data encoding\n",
    "* Improved machine learning performance\n",
    "* Easier data analysis"
   ]
  },
  {
   "cell_type": "markdown",
   "id": "c178711a",
   "metadata": {},
   "source": [
    "### Q2. What is nominal encoding? Provide an example of how you would use it in a real-world scenario."
   ]
  },
  {
   "cell_type": "markdown",
   "id": "7a2272b0",
   "metadata": {},
   "source": [
    "* Nominal encoding is a type of data encoding that assigns unique integer values to each category in a categorical variable. This is done to convert categorical data into numerical data, which can then be used by machine learning algorithms.\n",
    "\n",
    "#### example\n",
    "* if we have a dataset of customer orders, we might have a column for the customer's city. This column would contain a string value, such as \"New York\" or \"Los Angeles.\" To use this column in a machine learning algorithm, you would need to convert it to numerical data. You could do this using nominal encoding, by assigning the value 1 to \"New York,\" 2 to \"Los Angeles,\" and so on."
   ]
  },
  {
   "cell_type": "markdown",
   "id": "c59c4dfb",
   "metadata": {},
   "source": [
    "### Q3. In what situations is nominal encoding preferred over one-hot encoding? Provide a practical example."
   ]
  },
  {
   "cell_type": "markdown",
   "id": "c71f10ba",
   "metadata": {},
   "source": [
    "* Nominal encoding is preferred over one-hot encoding in situations where the order of the categories is not important.\n",
    "#### example\n",
    "* if we have a column that indicates the customer's favorite color, the order of the colors is not important. In this case, nominal encoding would be the preferred method of encoding the data."
   ]
  },
  {
   "cell_type": "markdown",
   "id": "17701523",
   "metadata": {},
   "source": [
    "### Q4. Suppose you have a dataset containing categorical data with 5 unique values. Which encoding technique would you use to transform this data into a format suitable for machine learning algorithms?Explain why you made this choice."
   ]
  },
  {
   "cell_type": "markdown",
   "id": "153d3384",
   "metadata": {},
   "source": [
    "* If I have a dataset containing categorical data with 5 unique values, I would use one-hot encoding to transform this data into a format suitable for machine learning algorithms.\n",
    "* One-hot encoding is a technique that creates a new column for each unique category in the original column. Each new column will contain a binary value, indicating whether the original value was present or not\n",
    "#### example\n",
    "*  if the original column contains the values \"red\", \"green\", \"blue\", and \"yellow\", one-hot encoding would create four new columns. The first column would contain a value of 1 if the original value was \"red\", and 0 otherwise. The second column would contain a value of 1 if the original value was \"green\", and 0 otherwise"
   ]
  },
  {
   "cell_type": "markdown",
   "id": "700f04b0",
   "metadata": {},
   "source": [
    "### Q5. In a machine learning project, you have a dataset with 1000 rows and 5 columns. Two of the columns are categorical, and the remaining three columns are numerical. If you were to use nominal encoding to transform the categorical data, how many new columns would be created? Show your calculations."
   ]
  },
  {
   "cell_type": "markdown",
   "id": "d2e903f2",
   "metadata": {},
   "source": [
    "* If we were use nominal encoding to transform the categorical data in a dataset with 1000 rows and 5 columns, where 2 of the columns are categorical, 2 new columns would be created.\n",
    "* In the case of a dataset with 2 categorical columns, nominal encoding would create 2 new columns. Each new column would contain a unique integer value for each category in the original column.\n",
    "#### example\n",
    "* if the original column contains the values \"red\" and \"blue\", nominal encoding would create 2 new columns. The first column would contain the value 1 for \"red\" and 0 for \"blue\". The second column would contain the value 2 for \"blue\" and 0 for \"red\"."
   ]
  },
  {
   "cell_type": "markdown",
   "id": "7a111dd2",
   "metadata": {},
   "source": [
    "### Q6. You are working with a dataset containing information about different types of animals, including their species, habitat, and diet. Which encoding technique would you use to transform the categorical data into a format suitable for machine learning algorithms? Justify your answer."
   ]
  },
  {
   "cell_type": "markdown",
   "id": "8202b0ef",
   "metadata": {},
   "source": [
    "* If I am working with a dataset containing information about different types of animals, including their species, habitat, and diet, I would use one-hot encoding to transform the categorical data into a format suitable for machine learning algorithms\n",
    "* One-hot encoding is a technique that creates a new column for each unique category in the original column. Each new column will contain a binary value, indicating whether the original value was present or not.\n",
    "#### example\n",
    "* if the original column contains the values \"dog\", \"cat\", and \"bird\", one-hot encoding would create three new columns. The first column would contain a value of 1 if the original value was \"dog\", and 0 otherwise. The second column would contain a value of 1 if the original value was \"cat\", and 0 otherwise. And the third column would contain a value of 1 if the original value was \"bird\", and 0 otherwise."
   ]
  },
  {
   "cell_type": "markdown",
   "id": "baca2203",
   "metadata": {},
   "source": [
    "### Q7.You are working on a project that involves predicting customer churn for a telecommunications company. You have a dataset with 5 features, including the customer's gender, age, contract type,monthly charges, and tenure. Which encoding technique(s) would you use to transform the categoricaldata into numerical data? Provide a step-by-step explanation of how you would implement the encoding."
   ]
  },
  {
   "cell_type": "markdown",
   "id": "179298c7",
   "metadata": {},
   "source": [
    "* If I am working on a project that involves predicting customer churn for a telecommunications company, I would use one-hot encoding to transform the categorical data into numerical data \n",
    "#### step-by-step explanation\n",
    "* Identify the categorical features. In this case, the categorical features are gender, age, contract type, and tenure.\n",
    "\n",
    "\n",
    "* Create a new column for each unique category in each categorical feature. For example, for the gender feature, I would create two new columns: one for \"male\" and one for \"female\".\n",
    "\n",
    "\n",
    "* Assign a value of 1 to the new column if the original value was present, and 0 otherwise. For example, if the original value of the gender feature was \"male\", I would assign a value of 1 to the \"male\" column and a value of 0 to the \"female\" column"
   ]
  },
  {
   "cell_type": "code",
   "execution_count": null,
   "id": "379edaec",
   "metadata": {},
   "outputs": [],
   "source": []
  }
 ],
 "metadata": {
  "kernelspec": {
   "display_name": "Python 3 (ipykernel)",
   "language": "python",
   "name": "python3"
  },
  "language_info": {
   "codemirror_mode": {
    "name": "ipython",
    "version": 3
   },
   "file_extension": ".py",
   "mimetype": "text/x-python",
   "name": "python",
   "nbconvert_exporter": "python",
   "pygments_lexer": "ipython3",
   "version": "3.10.7"
  }
 },
 "nbformat": 4,
 "nbformat_minor": 5
}
