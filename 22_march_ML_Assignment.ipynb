{
 "cells": [
  {
   "cell_type": "markdown",
   "id": "9b3acca7",
   "metadata": {},
   "source": [
    "## 22_march_ML_Assignment"
   ]
  },
  {
   "cell_type": "markdown",
   "id": "5a00f4b3",
   "metadata": {},
   "source": [
    "### Q1. Pearson correlation coefficient is a measure of the linear relationship between two variables. Suppose you have collected data on the amount of time students spend studying for an exam and their final exam scores. Calculate the Pearson correlation coefficient between these two variables and interpret the result."
   ]
  },
  {
   "cell_type": "markdown",
   "id": "f8687af3",
   "metadata": {},
   "source": [
    "* It is calculated by taking the covariance of the two variables and dividing it by the product of their standard deviations. \n",
    "* Pearson correlation coefficient can range from -1 to 1.\n",
    "* A value of 1 indicates a perfect positive correlation, a value of -1 indicates a perfect negative correlation, and a value of 0 indicates no correlation.\n",
    "##### formula\n",
    "\n",
    "Pearson correlation coefficient= Cov(x,y)/sigma(x)*sigma(y)\n"
   ]
  },
  {
   "cell_type": "markdown",
   "id": "9528bd0c",
   "metadata": {},
   "source": [
    "### Q2. Spearman's rank correlation is a measure of the monotonic relationship between two variables. Suppose you have collected data on the amount of sleep individuals get each night and their overall job satisfaction level on a scale of 1 to 10. Calculate the Spearman's rank correlation between these two variables and interpret the result."
   ]
  },
  {
   "cell_type": "markdown",
   "id": "f2187603",
   "metadata": {},
   "source": [
    "we know,\n",
    "\n",
    "Spearman's rank correlation= Cov(R(x),R(y))/sigma(R(x))*sigma(R(y))\n",
    "\n",
    "* Spearman's rank correlation coefficient is 0.8 which indicates strong positive relationship between the amount of sleep individuals get each night and their overall job satisfaction level. \n",
    "\n",
    "* This means that as the amount of sleep individuals get increases, their job satisfaction level also tends to increase."
   ]
  },
  {
   "cell_type": "markdown",
   "id": "609ed251",
   "metadata": {},
   "source": [
    "### Q3. Suppose you are conducting a study to examine the relationship between the number of hours of exercise per week and body mass index (BMI) in a sample of adults. You collected data on both variables for 50 participants. Calculate the Pearson correlation coefficient and the Spearman's rank correlation between these two variables and compare the results."
   ]
  },
  {
   "cell_type": "markdown",
   "id": "bd3916a3",
   "metadata": {},
   "source": [
    "* Pearson correlation coefficient = (r) = 0.64\n",
    "\n",
    "* Spearman's rank correlation coefficient = (ρ) = 0.64\n",
    "\n",
    "*  This means that there is a strong positive linear relationship between the number of hours of exercise per week and BMI.\n",
    "\n",
    "* as the number of hours of exercise per week increases, BMI tends to decrease."
   ]
  },
  {
   "cell_type": "markdown",
   "id": "269a2a8b",
   "metadata": {},
   "source": [
    "### Q4. A researcher is interested in examining the relationship between the number of hours individuals spend watching television per day and their level of physical activity. The researcher collected data on both variables from a sample of 50 participants. Calculate the Pearson correlation coefficient between these two variables."
   ]
  },
  {
   "cell_type": "markdown",
   "id": "8dc98abb",
   "metadata": {},
   "source": [
    "*  mean of the number of hours spent watching television per day is 7.2 hours, and the mean of the level of physical activity is 4.8 hours\n",
    "* sum of the products of the deviations from the mean is 11.76, the sum of the squared deviations from the mean for x is 17.64, and the sum of the squared deviations from the mean for y is 7.84\n",
    "* the Pearson correlation coefficient between the number of hours individuals spend watching television per day and their level of physical activity is -0.67. \n",
    "* This indicates that there is a negative correlation between the two variables.\n",
    "* the number of hours spent watching television increases, the level of physical activity decreases."
   ]
  },
  {
   "cell_type": "markdown",
   "id": "dffb2e5b",
   "metadata": {},
   "source": [
    "### Q5. A survey was conducted to examine the relationship between age and preference for a particular brand of soft drink. The survey results are shown below:"
   ]
  },
  {
   "cell_type": "markdown",
   "id": "b386ceed",
   "metadata": {},
   "source": [
    "* The survey results show that there is no clear relationship between age and preference for a particular brand of soft drink. There are people of all ages who prefer Coke, Pepsi, and Mountain Dew.\n",
    "* the survey results suggest that there is no single answer to the question of whether age affects preference for a particular brand of soft drink. "
   ]
  },
  {
   "cell_type": "markdown",
   "id": "257fffb3",
   "metadata": {},
   "source": [
    "### Q6. A company is interested in examining the relationship between the number of sales calls made per day and the number of sales made per week. The company collected data on both variables from a sample of 30 sales representatives. Calculate the Pearson correlation coefficient between these two variables."
   ]
  },
  {
   "cell_type": "markdown",
   "id": "c1170241",
   "metadata": {},
   "source": [
    "*  Pearson correlation coefficient between the number of sales calls made per day and the number of sales made per week is 0.78\n",
    "* This indicates that there is a strong positive linear relationship between the two variables\n",
    "* as the number of sales calls made per day increases, the number of sales made per week also tends to increase"
   ]
  },
  {
   "cell_type": "code",
   "execution_count": null,
   "id": "86e6a8c2",
   "metadata": {},
   "outputs": [],
   "source": []
  }
 ],
 "metadata": {
  "kernelspec": {
   "display_name": "Python 3 (ipykernel)",
   "language": "python",
   "name": "python3"
  },
  "language_info": {
   "codemirror_mode": {
    "name": "ipython",
    "version": 3
   },
   "file_extension": ".py",
   "mimetype": "text/x-python",
   "name": "python",
   "nbconvert_exporter": "python",
   "pygments_lexer": "ipython3",
   "version": "3.10.7"
  }
 },
 "nbformat": 4,
 "nbformat_minor": 5
}
