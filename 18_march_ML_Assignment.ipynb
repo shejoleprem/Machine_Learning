{
 "cells": [
  {
   "cell_type": "markdown",
   "id": "9a28b30b",
   "metadata": {},
   "source": [
    "# 18_march"
   ]
  },
  {
   "cell_type": "markdown",
   "id": "8b9b99f8",
   "metadata": {},
   "source": [
    "### Q1. What is the Filter method in feature selection, and how does it work?"
   ]
  },
  {
   "cell_type": "markdown",
   "id": "17df21fb",
   "metadata": {},
   "source": [
    "* filter method selects the feature based on their correlation with target variable\n",
    "* filter method does not consider the interaction between the features\n",
    "#### how filter method works?\n",
    "* feature scoring: the scoring metrics capture the importance of feature with respect to target variable without considering interaction with others.\n",
    "* Ranking: the features are ranked based on their scores in descending order.\n",
    "* feature selection: top ranked features are selected and used for analysis.\n"
   ]
  },
  {
   "cell_type": "markdown",
   "id": "9f8d8a2a",
   "metadata": {},
   "source": [
    "### Q2. How does the Wrapper method differ from the Filter method in feature selection?"
   ]
  },
  {
   "cell_type": "markdown",
   "id": "edc25b34",
   "metadata": {},
   "source": [
    "* wrapper method selects the subset of features based on their ability to improve the performance of model while filter method select the subset of feature based on their correlation with target variable.\n",
    "* filter method does not consider the interaction between the features while wrapper method consider the interation between the features "
   ]
  },
  {
   "cell_type": "markdown",
   "id": "78ffe970",
   "metadata": {},
   "source": [
    "### Q3. What are some common techniques used in Embedded feature selection methods?"
   ]
  },
  {
   "cell_type": "markdown",
   "id": "128a86ae",
   "metadata": {},
   "source": [
    "* Lasso Regression\n",
    "* Ridge Regression\n",
    "* Elastic Net Regression"
   ]
  },
  {
   "cell_type": "markdown",
   "id": "7d6f3985",
   "metadata": {},
   "source": [
    "### Q4. What are some drawbacks of using the Filter method for feature selection?"
   ]
  },
  {
   "cell_type": "markdown",
   "id": "b2e5bab7",
   "metadata": {},
   "source": [
    "* does not consider the interacion between the features\n",
    "* ignore the impact on the model\n",
    "* sensitivity to irrelevant Features\n",
    "* limited Exploration of Feature Combination"
   ]
  },
  {
   "cell_type": "markdown",
   "id": "e074a87b",
   "metadata": {},
   "source": [
    "### Q5. In which situations would you prefer using the Filter method over the Wrapper method for feature selection?"
   ]
  },
  {
   "cell_type": "markdown",
   "id": "3404e016",
   "metadata": {},
   "source": [
    "* filter method is more effective compared to wrapper method when size of dataset is large.\n",
    "* filter method becomes more effective in case of dimensionality reduction.\n",
    "* Filter method evaluates features based on their individual statistical properties, without considering feature interaction\n",
    "* Filter method is useful in Exploratory data Analysis as well."
   ]
  },
  {
   "cell_type": "markdown",
   "id": "addfbfa9",
   "metadata": {},
   "source": [
    "### Q6. In a telecom company, you are working on a project to develop a predictive model for customer churn. You are unsure of which features to include in the model because the dataset contains several different ones. Describe how you would choose the most pertinent attributes for the model using the Filter Method."
   ]
  },
  {
   "cell_type": "markdown",
   "id": "fa5729dc",
   "metadata": {},
   "source": [
    "* first i apply the feature scoring technique for scoring matrix which capture the importance of the feature with respect to target variable without considering the interaction between the features.\n",
    "* the features are ranked based on their scores in descending order.\n",
    "* top ranked features are selected from the dataset which contains several different ones."
   ]
  },
  {
   "cell_type": "markdown",
   "id": "2bfdecdc",
   "metadata": {},
   "source": [
    "### Q7. You are working on a project to predict the outcome of a soccer match. You have a large dataset with many features, including player statistics and team rankings. Explain how you would use the Embedded method to select the most relevant features for the model."
   ]
  },
  {
   "cell_type": "markdown",
   "id": "f12f2ead",
   "metadata": {},
   "source": [
    "* train the model with regularization. Regularization technique such as L1(Lasso) or L2(Ridge).\n",
    "* feature importance: Extract Feature Importance from Trained Model.\n",
    "* Select Relevent Features: Based on Feature importance or coeffocoents, select the most relevant features"
   ]
  },
  {
   "cell_type": "markdown",
   "id": "59c0484c",
   "metadata": {},
   "source": [
    "### Q8. You are working on a project to predict the price of a house based on its features, such as size, location, and age. You have a limited number of features, and you want to ensure that you select the most important ones for the model. Explain how you would use the Wrapper method to select the best set of features for the predictor."
   ]
  },
  {
   "cell_type": "markdown",
   "id": "594da386",
   "metadata": {},
   "source": [
    "* Define the Evaluation Metric\n",
    "* Select a Subset of Features\n",
    "* Build and Evaluate the Model\n",
    "* Feature Subset Generation\n",
    "* Model Training and Evaluation\n",
    "* Compare Performance\n",
    "* Model Refinement\n",
    "* Model Evaluation"
   ]
  },
  {
   "cell_type": "code",
   "execution_count": null,
   "id": "0a91cfea",
   "metadata": {},
   "outputs": [],
   "source": []
  }
 ],
 "metadata": {
  "kernelspec": {
   "display_name": "Python 3 (ipykernel)",
   "language": "python",
   "name": "python3"
  },
  "language_info": {
   "codemirror_mode": {
    "name": "ipython",
    "version": 3
   },
   "file_extension": ".py",
   "mimetype": "text/x-python",
   "name": "python",
   "nbconvert_exporter": "python",
   "pygments_lexer": "ipython3",
   "version": "3.10.7"
  }
 },
 "nbformat": 4,
 "nbformat_minor": 5
}
